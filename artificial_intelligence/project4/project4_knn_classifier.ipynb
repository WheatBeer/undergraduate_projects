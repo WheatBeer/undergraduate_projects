{
 "cells": [
  {
   "cell_type": "markdown",
   "metadata": {},
   "source": [
    "> ### EEE3314-02: Introduction to Artificial Intelligence\n",
    "\n",
    "# Assignment \\# IV: KNN Classifier"
   ]
  },
  {
   "cell_type": "markdown",
   "metadata": {},
   "source": [
    "<div style=\"text-align: right\"> **Due date: 16 Nov., 2018.** </div> \n",
    "<div style=\"text-align: right\"> **Please upload your file @ yscec by 9 PM.** </div> \n",
    "<h4><div style=\"text-align: right\"> **For one day late (70% credit), please send your file to your TAs in the form of [ID_Name_HW4.ipynb].**</div> </h4>"
   ]
  },
  {
   "cell_type": "markdown",
   "metadata": {},
   "source": [
    "### *Assignement Instructions:*\n",
    "- Write a program implementing a particular algorithm to solve a given problem.   \n",
    "- <h4><span style=\"color:red\">**Report and discuss your results. Analyze the algorithm, theoretically and empirically. **</span> </h4>\n",
    "\n",
    "### *Collaboration policy:*\n",
    "- You may discuss the questions.   \n",
    "- Each student writes their own answers.   \n",
    "- **Write on your homework anyone with whom you collaborate.**   \n",
    "- Each student must write their own code for the programming part (**if not you will get a F grade**)."
   ]
  },
  {
   "cell_type": "code",
   "execution_count": 1,
   "metadata": {},
   "outputs": [
    {
     "name": "stdout",
     "output_type": "stream",
     "text": [
      "This code is written at 2018-11-14 23:22:59.165175\n"
     ]
    }
   ],
   "source": [
    "import datetime\n",
    "print(\"This code is written at \" + str(datetime.datetime.now()))"
   ]
  },
  {
   "cell_type": "markdown",
   "metadata": {},
   "source": [
    "## Problem description"
   ]
  },
  {
   "cell_type": "markdown",
   "metadata": {},
   "source": [
    "In this homework, we will implement a k-NN classifier with the MNIST dataset. The MNIST dataset contains handwritten digits with corresponding labels from $0$ to $9$, and it has been commonly used for testing various machine learning algorithms. The $\\texttt{sklearn.datasets}$ package provides the MNIST dataset. You can load the dataset as follows."
   ]
  },
  {
   "cell_type": "code",
   "execution_count": 2,
   "metadata": {},
   "outputs": [],
   "source": [
    "from sklearn import datasets\n",
    "import numpy as np"
   ]
  },
  {
   "cell_type": "code",
   "execution_count": 3,
   "metadata": {},
   "outputs": [],
   "source": [
    "mnist = datasets.load_digits()"
   ]
  },
  {
   "cell_type": "markdown",
   "metadata": {},
   "source": [
    "The $\\texttt{train_test_split}$ function from $\\texttt{sklearn.cross_validation}$ package makes it easy to split datasets into training and test sets. We can easily makes a validation set from the test one as well. See the example shown below."
   ]
  },
  {
   "cell_type": "code",
   "execution_count": 4,
   "metadata": {},
   "outputs": [],
   "source": [
    "from sklearn.model_selection import train_test_split"
   ]
  },
  {
   "cell_type": "code",
   "execution_count": 5,
   "metadata": {},
   "outputs": [
    {
     "name": "stdout",
     "output_type": "stream",
     "text": [
      "(1797, 64) (806, 64) (594, 64) (397, 64)\n"
     ]
    }
   ],
   "source": [
    "(X_train, X_test, y_train, y_test) = train_test_split(np.array(mnist.data), mnist.target, test_size=0.33, random_state=42)\n",
    "(X_train, X_val, y_train, y_val) = train_test_split(X_train, y_train, test_size=0.33, random_state=42)\n",
    "print(mnist.data.shape, X_train.shape, X_test.shape, X_val.shape)"
   ]
  },
  {
   "cell_type": "markdown",
   "metadata": {},
   "source": [
    "where X_train, X_test and X_val are training, test, and validation sets, respectively. y_train, y_test and y_val are labels for X_train, X_test, and X_val, respectively."
   ]
  },
  {
   "cell_type": "markdown",
   "metadata": {},
   "source": [
    "The datset contains 64-dimensional vectors, and we can visualize each one with the $\\texttt{imshow}$ function after reshaping it as follows."
   ]
  },
  {
   "cell_type": "code",
   "execution_count": 6,
   "metadata": {},
   "outputs": [],
   "source": [
    "import matplotlib.pyplot as plt"
   ]
  },
  {
   "cell_type": "code",
   "execution_count": 7,
   "metadata": {},
   "outputs": [
    {
     "name": "stdout",
     "output_type": "stream",
     "text": [
      "A label for 8th sample in the training set is 5\n"
     ]
    },
    {
     "data": {
      "image/png": "[encoded data removed]",
      "text/plain": [
       "<Figure size 432x288 with 1 Axes>"
      ]
     },
     "metadata": {},
     "output_type": "display_data"
    }
   ],
   "source": [
    "sample_number = 8\n",
    "n_col = 8\n",
    "n_row = 8\n",
    "im=plt.imshow(X_train[sample_number].reshape(n_col,n_col))\n",
    "print('A label for %dth sample in the training set is %d' % (sample_number, y_train[sample_number]))"
   ]
  },
  {
   "cell_type": "markdown",
   "metadata": {},
   "source": [
    "(*80 points*) P1.1 Implement a K-NN classifier.    \n",
    "(*20 points*) P1.2 The number of nearest neighbors $k$ in the classifier is a hyperparameter. Plot accuracy on the validation set according to the value of $k$, where $k = 1,2,...,20$. Choose the optimal $k$ value from the plot and compute accuracy on the test set. \n"
   ]
  },
  {
   "cell_type": "code",
   "execution_count": 8,
   "metadata": {},
   "outputs": [],
   "source": [
    "#P1.1\n",
    "import math\n",
    "def distance (x_i, x_q):\n",
    "    d = x_i - x_q\n",
    "    return math.sqrt(np.dot(d, d.T))\n",
    "    \n",
    "def knn (k, x_train, x_q):\n",
    "    \n",
    "    #append list [distance_i, i] and sort dist2nn\n",
    "    dist2nn = []\n",
    "    for i in range(k):\n",
    "        dist2nn.append([distance(x_train[i], x_q), i]) \n",
    "    dist2nn.sort()\n",
    "    \n",
    "    #remove furthest distance index\n",
    "    for i in range(k, x_train.shape[0]):\n",
    "        delta = distance(x_train[i], x_q)\n",
    "        if(delta < dist2nn[k-1][0]):\n",
    "            for j in range(k):\n",
    "                if(delta < dist2nn[j][0]):\n",
    "                    split = j\n",
    "                    break\n",
    "            dist2nn[split+1:k] = dist2nn[split:k-1]\n",
    "            dist2nn[split] = [delta, i]\n",
    "    for i in range(k):\n",
    "        dist2nn[i] = dist2nn[i][1]\n",
    "    \n",
    "    #return k most similar data    \n",
    "    return dist2nn       "
   ]
  },
  {
   "cell_type": "markdown",
   "metadata": {},
   "source": [
    "# Description P1.1\n",
    "\n",
    "강의안 21페이지에 있는 pseudo code를 이용해 k-NN algorithm을 구현했다. knn 함수는 k, training set, query data를 받아서 가장 가까운 데이터 들을 k개 return해주는 함수이다. 중간에 데이터간 거리를 구해줘야하므로 distance함수도 구현했는데, 두 벡터 데이터의 차의 제곱을 더해 루트 씌운 값을 반환한다. dsit2nn에는 [ditance_i, i]의 데이터가 k개 존재하는데 sort()를 이용하면 distance_i 순서대로 dist2nn을 나열할 수 있다. 먼저 k개를 나열하고 이후의 distance_i에 대해서는 마지막 distance_i(furthest)비교해서 이것보다 작으면 append해주는 방식을 사용했다. 마지막으로 [ditance_i, i]로 되어있는 dist2nn의 리스트를 i만 남아있게 바꾸어준다음 리턴해준다(distance순서대로 돼 있고, distance_i는 필요없기 때문에)."
   ]
  },
  {
   "cell_type": "code",
   "execution_count": 150,
   "metadata": {},
   "outputs": [
    {
     "data": {
      "image/png": "[encoded data removed]",
      "text/plain": [
       "<Figure size 432x288 with 1 Axes>"
      ]
     },
     "metadata": {},
     "output_type": "display_data"
    },
    {
     "name": "stdout",
     "output_type": "stream",
     "text": [
      "[0.9773299748110831, 0.9773299748110831, 0.982367758186398, 0.982367758186398, 0.9748110831234257, 0.9773299748110831, 0.9748110831234257, 0.9798488664987406, 0.9722921914357683, 0.9722921914357683, 0.9722921914357683, 0.9722921914357683, 0.9672544080604534, 0.9672544080604534, 0.9672544080604534, 0.9546599496221663, 0.9571788413098237, 0.9521410579345088, 0.9445843828715366, 0.9445843828715366]\n"
     ]
    }
   ],
   "source": [
    "#P1.2\n",
    "import collections\n",
    "k_axis = list(range(1,21,1))\n",
    "accuracy = [0] * 20\n",
    "\n",
    "for k in range(20):\n",
    "    for i in range(X_val.shape[0]):\n",
    "        most_similar = knn(k+1, X_train, X_val[i])\n",
    "        \n",
    "        for j in range(len(most_similar)):\n",
    "            most_similar[j] = y_train[most_similar[j]]\n",
    "            \n",
    "        count = collections.Counter(most_similar)\n",
    "        y_hat = count.most_common(1)[0][0] \n",
    "        \n",
    "        if(y_hat == y_val[i]):\n",
    "            accuracy[k] += 1\n",
    "    accuracy[k] = accuracy[k] / X_val.shape[0]\n",
    "\n",
    "plt.plot(k_axis,accuracy, marker='o')\n",
    "plt.show()\n",
    "print(accuracy)"
   ]
  },
  {
   "cell_type": "code",
   "execution_count": 152,
   "metadata": {},
   "outputs": [
    {
     "name": "stdout",
     "output_type": "stream",
     "text": [
      "0.9899244332493703\n"
     ]
    }
   ],
   "source": [
    "#P1.2\n",
    "accuracy = 0\n",
    "for i in range(X_val.shape[0]):\n",
    "    most_similar = knn(4, X_train, X_test[i])\n",
    "\n",
    "    for j in range(len(most_similar)):\n",
    "        most_similar[j] = y_train[most_similar[j]]\n",
    "\n",
    "    count = collections.Counter(most_similar)\n",
    "    y_hat = count.most_common(1)[0][0] #module이용\n",
    "\n",
    "    if(y_hat == y_test[i]):\n",
    "        accuracy += 1\n",
    "accuracy = accuracy / X_val.shape[0]\n",
    "print(accuracy)"
   ]
  },
  {
   "cell_type": "markdown",
   "metadata": {},
   "source": [
    "# Description P1.2\n",
    "### validation\n",
    "validation set의 데이터 한 행을 knn함수의 x query vector input(x_q)으로 사용해서 모든 데이터 set을 검증한다. knn의 리턴값이 X training set의 k most similar data index이므로 training set의 y 값으로 바꿔서 제일 많은 값을 y_hat로 나타냈다. 이 값과 validation y값을 비교해서 값이 같을 경우 accuracy를 하나씩 올려주었다. 마지막으로 accuracy를 비율로 바꿔주기위해 모든 데이터 셋의 인덱스 갯수로 나눠서 다시 accuracy에 넣어주고 이 값을 이용해 x축이 k이고 y축이 accuracy인 그래프를 그려주었다.<br>\n",
    "collections 모듈을 이용해서 아래와같이 사용했다.<br> \n",
    "count = collections.Counter(most_similar)<br>\n",
    "y_hat = count.most_common(1)[0][0]<br>\n",
    "most_similar에는 가장 가까운 y값들이 저장되어있는데 이 값들을 dictionary를 이용해 [(value, #)] 로 표현한다. value는 y값이고 #는 리스트에 몇개나 있는지를 나타내준다. 따라서 가장 많이 이용된 값을 택하고 distance가 작은값 먼저 앞으로 오기때문에 y_hat = count.most_common(1)[0][0]을 이용해서 y_hat을 구했다.\n",
    "\n",
    "### test\n",
    "plot에서 k가 3(0.9874055415617129)과 4(0.9899244332493703)일때 peak이기 때문에 둘 다 대입해봤다. 하지만 k = 4일때가 더 높은 정확도를 나타냈다."
   ]
  }
 ],
 "metadata": {
  "kernelspec": {
   "display_name": "Python 3",
   "language": "python",
   "name": "python3"
  },
  "language_info": {
   "codemirror_mode": {
    "name": "ipython",
    "version": 3
   },
   "file_extension": ".py",
   "mimetype": "text/x-python",
   "name": "python",
   "nbconvert_exporter": "python",
   "pygments_lexer": "ipython3",
   "version": "3.6.5"
  }
 },
 "nbformat": 4,
 "nbformat_minor": 2
}
