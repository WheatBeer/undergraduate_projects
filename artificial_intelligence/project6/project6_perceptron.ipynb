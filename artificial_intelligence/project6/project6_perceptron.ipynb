{
 "cells": [
  {
   "cell_type": "markdown",
   "metadata": {},
   "source": [
    "> ### EEE3314-02: Introduction to Artificial Intelligence\n",
    "\n",
    "# Assignment \\# VI: Perceptron"
   ]
  },
  {
   "cell_type": "markdown",
   "metadata": {},
   "source": [
    "<div style=\"text-align: right\"> **Due date: Dec. 7, 2018.** </div> \n",
    "<div style=\"text-align: right\"> **Please upload your file @ yscec by 9 PM.** </div> \n"
   ]
  },
  {
   "cell_type": "markdown",
   "metadata": {},
   "source": [
    "### *Assignement Instructions:*\n",
    "- Write a program implementing a particular algorithm to solve a given problem.   \n",
    "- <h4><span style=\"color:red\">**Report and discuss your results. Analyze the algorithm, theoretically and empirically. **</span> </h4>\n",
    "\n",
    "### *Collaboration policy:*\n",
    "- You may discuss the questions.   \n",
    "- Each student writes their own answers.   \n",
    "- **Write on your homework anyone with whom you collaborate.**   \n",
    "- Each student must write their own code for the programming part (**if not you will get a F grade**)."
   ]
  },
  {
   "cell_type": "code",
   "execution_count": 1,
   "metadata": {},
   "outputs": [
    {
     "name": "stdout",
     "output_type": "stream",
     "text": [
      "This code is written at 2018-12-03 21:59:12.424618\n"
     ]
    }
   ],
   "source": [
    "import datetime\n",
    "print(\"This code is written at \" + str(datetime.datetime.now()))"
   ]
  },
  {
   "cell_type": "markdown",
   "metadata": {},
   "source": [
    "## Problem description"
   ]
  },
  {
   "cell_type": "markdown",
   "metadata": {},
   "source": [
    "In this problem, we will implemnt an online perceptron algorithm using a MNIST dataset. The MNIST dataset contains handwritten digits that is commonly used for testing various machine learning algorithms. We use a subset of the dataset only. The training data ($\\texttt{perceptron_training_data.csv}$) contains two handwritten digits, either 3 or 5, labeled as 1 or -1, respectively. We can visualize each sample using the $\\texttt{imshow}$ function after reshaping $794$-dimensional vector to a $28 \\times 28$ matrix."
   ]
  },
  {
   "cell_type": "code",
   "execution_count": 2,
   "metadata": {},
   "outputs": [
    {
     "name": "stdout",
     "output_type": "stream",
     "text": [
      "(1000, 784) (1000, 784)\n"
     ]
    }
   ],
   "source": [
    "import numpy as np\n",
    "import pandas as pd\n",
    "from matplotlib import pyplot as plt\n",
    "\n",
    "df = pd.read_csv('perceptron_training_data.csv')\n",
    "df = df.values\n",
    "x = np.delete(df, 0, 1) \n",
    "y = np.array(df[0][0])\n",
    "for i in range(1,1000):\n",
    "    y = np.row_stack((y, df[i][0])) \n",
    "\n",
    "df_t = pd.read_csv('perceptron_test_data.csv')\n",
    "df_t = df_t.values\n",
    "x_t = np.delete(df_t, 0, 1) \n",
    "y_t = np.array(df_t[0][0])\n",
    "for i in range(1,1000):\n",
    "    y_t = np.row_stack((y_t, df_t[i][0])) \n",
    "print(x.shape, x_t.shape)"
   ]
  },
  {
   "cell_type": "markdown",
   "metadata": {},
   "source": [
    "(*80 points*) P1.1 Implement an online perceptron algorithm.\n",
    "\n",
    "(*10 points*) P1.2 Plot the number of missclassifications over epochs on the training set ($\\texttt{perceptron_training_data.csv}$). \n",
    "  > Initialize weights and the bias to 0.    \n",
    "  > Number of epoch: 100    \n",
    "  > An epoch is one complete presentation of the data set to be learned to a learning machine. For example, the total number of iterations is 500 for 5 epochs when the training dataset consists of 100 samples.\n",
    "  \n",
    "(*10 points*) P1.3 Plot the accuracy over epochs on the test set ($\\texttt{perceptron_test_data.csv}$).\n",
    "  > Initialize weights and the bias to 0.       \n",
    "> Number of epoch: 100"
   ]
  },
  {
   "cell_type": "code",
   "execution_count": 3,
   "metadata": {},
   "outputs": [],
   "source": [
    "def perceptron (x, y):\n",
    "    w = np.zeros((1,784))\n",
    "    epoch = 100\n",
    "    miss = 0\n",
    "    miss_count =[]\n",
    "    x_axis = []\n",
    "    w_total = []\n",
    "    for t in range (x.shape[0] * epoch):\n",
    "        pre_in = np.dot(x[t%1000], w.T)\n",
    "        if (pre_in < 0):\n",
    "            y_hat = -1\n",
    "        else:\n",
    "            y_hat = 1\n",
    "        \n",
    "        if (y_hat != y[t%1000][0]):\n",
    "            w = w + y[t%1000][0] * x[t%1000] \n",
    "            miss += 1\n",
    "        if (t % 1000 == 999):\n",
    "            x_axis.append((t+1)/1000)\n",
    "            miss_count.append(miss)\n",
    "            miss = 0\n",
    "            w_total.append(w)\n",
    "    print(miss_count)\n",
    "    plt.plot(x_axis, miss_count)\n",
    "    plt.show()\n",
    "    return w_total"
   ]
  },
  {
   "cell_type": "code",
   "execution_count": 4,
   "metadata": {},
   "outputs": [
    {
     "name": "stdout",
     "output_type": "stream",
     "text": [
      "[125, 99, 68, 63, 58, 58, 55, 41, 43, 40, 40, 35, 26, 32, 27, 28, 15, 15, 25, 28, 13, 11, 16, 15, 14, 14, 17, 11, 11, 6, 5, 5, 10, 5, 14, 8, 11, 8, 0, 0, 0, 0, 0, 0, 0, 0, 0, 0, 0, 0, 0, 0, 0, 0, 0, 0, 0, 0, 0, 0, 0, 0, 0, 0, 0, 0, 0, 0, 0, 0, 0, 0, 0, 0, 0, 0, 0, 0, 0, 0, 0, 0, 0, 0, 0, 0, 0, 0, 0, 0, 0, 0, 0, 0, 0, 0, 0, 0, 0, 0]\n"
     ]
    },
    {
     "data": {
      "image/png": "[encoded data removed]",
      "text/plain": [
       "<Figure size 432x288 with 1 Axes>"
      ]
     },
     "metadata": {},
     "output_type": "display_data"
    }
   ],
   "source": [
    "w_total = perceptron (x, y)"
   ]
  },
  {
   "cell_type": "markdown",
   "metadata": {},
   "source": [
    "# Description\n",
    "\n",
    "강의자료 9페이지에 있는 perceptron algorithm을 그대로 구현했다. 초기 weight들이 모두 0이기 때문에 초기 iteration에서는 miss가 많이 나왔다. 하지만 iteration(epoch단위)이 증가할수록 miss가 0에 수렴했다. 중간에 linear classification을 위해 signoid 함수를 if-else문으로 구현했다. epoch단위로 돌리기 때문에 modulus(%)를 사용했다."
   ]
  },
  {
   "cell_type": "code",
   "execution_count": 7,
   "metadata": {},
   "outputs": [
    {
     "data": {
      "image/png": "[encoded data removed]",
      "text/plain": [
       "<Figure size 432x288 with 1 Axes>"
      ]
     },
     "metadata": {},
     "output_type": "display_data"
    }
   ],
   "source": [
    "accuracy = []\n",
    "x_axis = []\n",
    "for i in range (len(w_total)):\n",
    "    correct = 0\n",
    "    w = w_total[i]\n",
    "    for t in range(x_t.shape[0]):\n",
    "        if (np.dot(x_t[t], w.T) < 0):\n",
    "            y_hat = -1\n",
    "        else:\n",
    "            y_hat = 1\n",
    "\n",
    "        if (y_hat == y_t[t][0]):\n",
    "            correct += 1\n",
    "    x_axis.append(i+1)\n",
    "    accuracy.append(correct/x_t.shape[0])\n",
    "plt.plot(x_axis, accuracy)\n",
    "plt.show()"
   ]
  },
  {
   "cell_type": "markdown",
   "metadata": {},
   "source": [
    "# Description\n",
    "\n",
    "1번에서 epoch마다 구해준 w값을 이용해 test-set의 정확도를 구해보았다. training 시 miss가 많았을 때는 정확도에 noise가 있었지만 miss가 0으로 수렴하고나서는 93%의 정확도를 보여주었다."
   ]
  }
 ],
 "metadata": {
  "kernelspec": {
   "display_name": "Python 3",
   "language": "python",
   "name": "python3"
  },
  "language_info": {
   "codemirror_mode": {
    "name": "ipython",
    "version": 3
   },
   "file_extension": ".py",
   "mimetype": "text/x-python",
   "name": "python",
   "nbconvert_exporter": "python",
   "pygments_lexer": "ipython3",
   "version": "3.6.5"
  }
 },
 "nbformat": 4,
 "nbformat_minor": 2
}
