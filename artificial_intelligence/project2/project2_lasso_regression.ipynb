{
 "cells": [
  {
   "cell_type": "markdown",
   "metadata": {},
   "source": [
    "> ### EEE3314-02: Introduction to Artificial Intelligence\n",
    "\n",
    "# Assignment \\# II: Lasso Regression"
   ]
  },
  {
   "cell_type": "markdown",
   "metadata": {},
   "source": [
    "<div style=\"text-align: right\"> **Due date: Oct. 19, 2018.** </div> \n",
    "<div style=\"text-align: right\"> **Please upload your file @ yscec by 9 PM in the form of [ID_Name_HW1.ipynb].** </div> \n"
   ]
  },
  {
   "cell_type": "markdown",
   "metadata": {},
   "source": [
    "### *Assignement Instructions:*\n",
    "- Write a program implementing a particular algorithm to solve a given problem.   \n",
    "- <h4><span style=\"color:red\">**Report and discuss your results. Analyze the algorithm, theoretically and empirically. **</span> </h4>\n",
    "\n",
    "### *Collaboration policy:*\n",
    "- You may discuss the questions.   \n",
    "- Each student writes their own answers.   \n",
    "- **Write on your homework anyone with whom you collaborate.**   \n",
    "- Each student must write their own code (<span style=\"color:red\">**if not you will get a F grade**</span>)."
   ]
  },
  {
   "cell_type": "code",
   "execution_count": 1,
   "metadata": {},
   "outputs": [
    {
     "name": "stdout",
     "output_type": "stream",
     "text": [
      "This code is written at 2019-02-28 01:09:32.066656\n"
     ]
    }
   ],
   "source": [
    "import datetime\n",
    "print(\"This code is written at \" + str(datetime.datetime.now()))"
   ]
  },
  {
   "cell_type": "markdown",
   "metadata": {},
   "source": [
    "## Problem description"
   ]
  },
  {
   "cell_type": "markdown",
   "metadata": {},
   "source": [
    "The training set ($\\texttt{crime-train.csv}$) consist of local crime statistics for 1,595 communities. We have 95 features to estimate the crime rate denoted by $\\texttt{ViolentCrimesPerPop}$. These features include possibly relevant variables such as the size of the police force or the percentage of children that graduate high school. A description of the features in the data set is avaialbe: http://archive.ics.uci.edu/ml/machine-learning-databases/communities/communities.names.\n",
    "\n",
    "Let's use the training set to fit a model which can predict the crime rate in new communities, and evaluate model performance on the test set ($\\texttt{crime-test.csv}$). The number of featrues and other statistics are exactly the same as the training set. "
   ]
  },
  {
   "cell_type": "code",
   "execution_count": 2,
   "metadata": {},
   "outputs": [
    {
     "name": "stdout",
     "output_type": "stream",
     "text": [
      "(1595, 96)\n",
      "[[ 1.    1.    1.   ...  1.    1.    1.  ]\n",
      " [-0.45 -0.45 -0.14 ...  0.81  0.18  1.12]\n",
      " [-1.85 -0.27  1.87 ... -0.57  0.28  1.93]\n",
      " ...\n",
      " [-0.56 -0.11  0.77 ...  0.43  0.72  0.33]\n",
      " [ 1.26 -0.62  0.52 ...  0.08  0.73 -0.49]\n",
      " [-0.39 -0.39 -0.39 ...  3.4   0.52  3.77]]\n",
      "(1595, 1)\n",
      "[1. 1. 1. ... 1. 1. 1.]\n"
     ]
    }
   ],
   "source": [
    "import numpy as np\n",
    "import matplotlib.pyplot as plt\n",
    "import pandas as pd\n",
    "\n",
    "df = pd.read_csv('crime-train.csv') #put data from crime-train.csv\n",
    "df = df.values\n",
    "#print(df.shape)\n",
    "#print(df)\n",
    "\n",
    "x = np.delete(df, 0, 1) # make a matrix of input variables(X)\n",
    "intercept = np.ones((1595,1))\n",
    "x = np.column_stack([intercept, x])\n",
    "print(x.shape)\n",
    "print(x.T)\n",
    "\n",
    "y = np.array(df[0][0])\n",
    "for i in range(1,1595):\n",
    "    y = np.row_stack((y, df[i][0])) #put ViolentCrimesPerPop into y\n",
    "print(y.shape)\n",
    "#print(y)\n",
    "print(x.T[0])"
   ]
  },
  {
   "cell_type": "markdown",
   "metadata": {},
   "source": [
    "## Description\n",
    "pandas를 이용해 crime-train.csv에서 데이터를 불러와 문제를 풀기 알맞게 x(input)와 y(output)를 각각 행렬과 벡터로 만들어주었다."
   ]
  },
  {
   "cell_type": "markdown",
   "metadata": {},
   "source": [
    "### I. Lasso method \n",
    "(*50 points*) P1.1 As there are a considerable number of input variables, overfitting is a serious issue. In order to avoid this, implement the **coordinate descent LASSO algorithm**. Note that you should consider an additional feature to consider **an intercept term**. Your function should accept a scalar value of the regularization parameter $\\lambda$, a vector-valued output variable ($y$), a matrix of input variables ($X$), and an initial vector of weights ($w_0$). It should output a vector of coefficient values ($\\hat w$).\n",
    "\n",
    "> Convergence condition: $||\\hat w_t - \\hat w_{t+1}||_\\infty < 10^{-6}$, i.e., $max(abs(\\hat w_t - \\hat w_{t+1})) < 10^{-6}$, where $t$ is a number of iteration.      \n",
    "> Loss function = RSS\n",
    "\n",
    "(*10 points*) P1.2 Plot training error (sum of squared errorr) over the number of itertaions when $\\lambda = 600$."
   ]
  },
  {
   "cell_type": "code",
   "execution_count": 3,
   "metadata": {},
   "outputs": [
    {
     "name": "stdout",
     "output_type": "stream",
     "text": [
      "(96, 1)\n"
     ]
    }
   ],
   "source": [
    "#set an initial vector of weights\n",
    "w0 = np.random.normal(0, 1, 96)\n",
    "w0 = np.array([w0]).T \n",
    "print(w0.shape)\n",
    "#print(w0.T)"
   ]
  },
  {
   "cell_type": "code",
   "execution_count": 4,
   "metadata": {},
   "outputs": [],
   "source": [
    "def lasso(lamda, y, x, w0):\n",
    "    w_hat = w0.copy() #w0를 w_hat에 복사 \n",
    "    #print(w_hat)\n",
    "    t = 0 #iteration\n",
    "    cc = np.ones((96,1)) #while을 처음 실행하기위해 convergence condition(cc)배열을 모두 1로해줌 \n",
    "    a = []\n",
    "    err = []\n",
    "    while(np.max(np.absolute(cc)) > pow(10, -6)): #convergence condition\n",
    "        for j in range(x.shape[1]): #j=0,1,2,...,D(features)\n",
    "            z_j = np.dot(x.T[j],(x.T[j]).T)#Normalizer Zj\n",
    "             \n",
    "            x_j = x.T[j].reshape(x.T[j].shape[0],1)\n",
    "            diff = y - np.dot(x,w_hat) + (x_j*w_hat[j][0]) #실제 y값과 jth feature를 빼서 prediction한 y값을 빼준다.\n",
    "#             print(diff.shape)\n",
    "            roj = np.dot(x.T[j],diff)[0] #x.T와 위에서 구한 diff를 행렬 곱 연산 진행\n",
    "            \n",
    "            if roj < (-lamda/2): # soft thresholding\n",
    "                wj = (roj + lamda/2)/z_j\n",
    "            elif roj > (lamda/2):\n",
    "                wj = (roj - lamda/2)/z_j\n",
    "            else:\n",
    "                wj = 0  \n",
    "            \n",
    "            cc[j] = w_hat[j][0] - wj #convergence condition을 위해 이전 jth w_hat과 바로구한 roj를 빼준다. \n",
    "            w_hat[j] = wj #update jth w_hat\n",
    "        t += 1 #iteration + 1\n",
    "        a.append(t) #그래프를 그리기 위해 iteration을 a라는 list에 추가\n",
    "#       print(w_hat)\n",
    "        tr_err = np.dot((y - np.dot(x,w_hat)).T, y - np.dot(x,w_hat)) #training error\n",
    "        err.append(tr_err[0][0]) #training error 리스트 만들기\n",
    "    print(t,np.count_nonzero(w_hat))\n",
    "    \n",
    "    plt.plot(a, err) #P1.2 Plot training error\n",
    "    plt.show()\n",
    "    return w_hat"
   ]
  },
  {
   "cell_type": "code",
   "execution_count": 5,
   "metadata": {},
   "outputs": [
    {
     "name": "stdout",
     "output_type": "stream",
     "text": [
      "15 1\n"
     ]
    },
    {
     "data": {
      "image/png": "[encoded data removed]",
      "text/plain": [
       "<Figure size 432x288 with 1 Axes>"
      ]
     },
     "metadata": {},
     "output_type": "display_data"
    },
    {
     "data": {
      "text/plain": [
       "array([[0.04947962],\n",
       "       [0.        ],\n",
       "       [0.        ],\n",
       "       [0.        ],\n",
       "       [0.        ],\n",
       "       [0.        ],\n",
       "       [0.        ],\n",
       "       [0.        ],\n",
       "       [0.        ],\n",
       "       [0.        ],\n",
       "       [0.        ],\n",
       "       [0.        ],\n",
       "       [0.        ],\n",
       "       [0.        ],\n",
       "       [0.        ],\n",
       "       [0.        ],\n",
       "       [0.        ],\n",
       "       [0.        ],\n",
       "       [0.        ],\n",
       "       [0.        ],\n",
       "       [0.        ],\n",
       "       [0.        ],\n",
       "       [0.        ],\n",
       "       [0.        ],\n",
       "       [0.        ],\n",
       "       [0.        ],\n",
       "       [0.        ],\n",
       "       [0.        ],\n",
       "       [0.        ],\n",
       "       [0.        ],\n",
       "       [0.        ],\n",
       "       [0.        ],\n",
       "       [0.        ],\n",
       "       [0.        ],\n",
       "       [0.        ],\n",
       "       [0.        ],\n",
       "       [0.        ],\n",
       "       [0.        ],\n",
       "       [0.        ],\n",
       "       [0.        ],\n",
       "       [0.        ],\n",
       "       [0.        ],\n",
       "       [0.        ],\n",
       "       [0.        ],\n",
       "       [0.        ],\n",
       "       [0.        ],\n",
       "       [0.        ],\n",
       "       [0.        ],\n",
       "       [0.        ],\n",
       "       [0.        ],\n",
       "       [0.        ],\n",
       "       [0.        ],\n",
       "       [0.        ],\n",
       "       [0.        ],\n",
       "       [0.        ],\n",
       "       [0.        ],\n",
       "       [0.        ],\n",
       "       [0.        ],\n",
       "       [0.        ],\n",
       "       [0.        ],\n",
       "       [0.        ],\n",
       "       [0.        ],\n",
       "       [0.        ],\n",
       "       [0.        ],\n",
       "       [0.        ],\n",
       "       [0.        ],\n",
       "       [0.        ],\n",
       "       [0.        ],\n",
       "       [0.        ],\n",
       "       [0.        ],\n",
       "       [0.        ],\n",
       "       [0.        ],\n",
       "       [0.        ],\n",
       "       [0.        ],\n",
       "       [0.        ],\n",
       "       [0.        ],\n",
       "       [0.        ],\n",
       "       [0.        ],\n",
       "       [0.        ],\n",
       "       [0.        ],\n",
       "       [0.        ],\n",
       "       [0.        ],\n",
       "       [0.        ],\n",
       "       [0.        ],\n",
       "       [0.        ],\n",
       "       [0.        ],\n",
       "       [0.        ],\n",
       "       [0.        ],\n",
       "       [0.        ],\n",
       "       [0.        ],\n",
       "       [0.        ],\n",
       "       [0.        ],\n",
       "       [0.        ],\n",
       "       [0.        ],\n",
       "       [0.        ],\n",
       "       [0.        ]])"
      ]
     },
     "execution_count": 5,
     "metadata": {},
     "output_type": "execute_result"
    }
   ],
   "source": [
    "lasso(600, y, x, w0)"
   ]
  },
  {
   "cell_type": "markdown",
   "metadata": {},
   "source": [
    "## Description\n",
    "\n",
    "P1.1\n",
    "N(0,1)로 w0(coeff)를 initialize해준 후 convergence condition을 이용해서 강의노트 6장 55쪽에 있는 unnormalized features 일 때의 알고리즘을 코드로 구현했다. 중간에 rho를 업데이트하는 과정에서 soft thresholding을 이용했고 수시로 convergence condition(cc)를 체크하면서 수렴을 확인했다. 보다 구체적인 정보는 주석으로 처리했습니다.\n",
    "\n",
    "P1.2\n",
    "a = [] err = [] 라는 비어있는 리스트를 만들어 iteration은 a에 append하고 training error는 err에 append해서 2차원 plot을 그렸다."
   ]
  },
  {
   "cell_type": "markdown",
   "metadata": {},
   "source": [
    "### II. Regularization parameter \n",
    "Initially, set $\\lambda=600$, and adjust it by cutting it down by a factor of 2 and run again, until we have models for 10 values of $\\lambda$ in total. For each trial, set initial weights to $\\mathcal{N}(0,1)$ (Normal random variables with mean 0 and variance 1).   \n",
    "\n",
    "(*10 points*) P2.1 Plot weights (coefficients) for the features $\\texttt{agePct12t29}$, $\\texttt{pctWSocSec}$, $\\texttt{PctKids2Par}$, $\\texttt{PctIlleg}$, and $\\texttt{HousVacant}$ over $\\log(\\lambda)$. That is, plot the coefficient paths.     \n",
    "(*10 points*) P2.2 Plot training error (sum of squared error) over $\\log(\\lambda)$.    \n",
    "(*10 points*) P2.3 Plot test error (sum of squared error) over $\\log(\\lambda)$.   \n",
    "(*10 points*) P2.4 Plot number of nonzero weights over $\\lambda$.   \n"
   ]
  },
  {
   "cell_type": "code",
   "execution_count": 7,
   "metadata": {},
   "outputs": [],
   "source": [
    "def lasso2(lamda, y, x, w0):\n",
    "    w_hat = w0.copy() #w0를 w_hat에 복사 \n",
    "    #print(w_hat)\n",
    "    t = 0 #iteration\n",
    "    cc = np.ones((96,1)) #while을 처음 실행하기위해 convergence condition(cc)배열을 모두 1로해줌 \n",
    "    a = []\n",
    "    err = []\n",
    "    while(np.max(np.absolute(cc)) > pow(10, -6)): #convergence condition\n",
    "        for j in range(x.shape[1]): #j=0,1,2,...,D(features)\n",
    "            z_j = np.dot(x.T[j],(x.T[j]).T)#Normalizer Zj\n",
    "             \n",
    "            x_j = x.T[j].reshape(x.T[j].shape[0],1)\n",
    "            diff = y - np.dot(x,w_hat) + (x_j*w_hat[j][0]) #실제 y값과 jth feature를 빼서 prediction한 y값을 빼준다.\n",
    "            roj = np.dot(x.T[j],diff)[0] #x.T와 위에서 구한 diff를 행렬 곱 연산 진행\n",
    "            \n",
    "            if roj < (-lamda/2): # soft thresholding\n",
    "                wj = (roj + lamda/2)/z_j\n",
    "            elif roj > (lamda/2):\n",
    "                wj = (roj - lamda/2)/z_j\n",
    "            else:\n",
    "                wj = 0  \n",
    "            \n",
    "            cc[j] = w_hat[j][0] - wj #convergence condition을 위해 이전 jth w_hat과 바로구한 roj를 빼준다. \n",
    "            w_hat[j] = wj #update jth w_hat\n",
    "        t += 1 #iteration + 1\n",
    " \n",
    "    print(t,np.count_nonzero(w_hat))\n",
    "    \n",
    "    return w_hat"
   ]
  },
  {
   "cell_type": "code",
   "execution_count": 15,
   "metadata": {},
   "outputs": [
    {
     "name": "stdout",
     "output_type": "stream",
     "text": [
      "[600, 300, 150, 75, 37, 18, 9, 4, 2, 1]\n",
      "15 1\n",
      "54 3\n",
      "59 5\n",
      "105 7\n",
      "127 12\n",
      "197 18\n",
      "303 28\n",
      "532 48\n",
      "1102 65\n",
      "1524 77\n"
     ]
    }
   ],
   "source": [
    "#P2.1\n",
    "lamda_list = []\n",
    "for i in range(10):\n",
    "    lamda_list.append(600 // 2**i)\n",
    "w4 = []\n",
    "w13 = []\n",
    "w40 = []\n",
    "w46 = []\n",
    "w67 = []\n",
    "for i in lamda_list:\n",
    "    w = lasso2(i, y, x, w0)\n",
    "    w4.append(w[4]) \n",
    "    w13.append(w[13])\n",
    "    w40.append(w[40])\n",
    "    w46.append(w[46])\n",
    "    w67.append(w[67])"
   ]
  },
  {
   "cell_type": "code",
   "execution_count": 16,
   "metadata": {},
   "outputs": [
    {
     "data": {
      "image/png": "[encoded data removed]",
      "text/plain": [
       "<Figure size 432x288 with 1 Axes>"
      ]
     },
     "metadata": {},
     "output_type": "display_data"
    }
   ],
   "source": [
    "plt.plot(lamda_list,w4, label = 'agePcT12t29', ls = 'dotted', marker='o')\n",
    "plt.plot(lamda_list,w13, label ='pctWSocSec', ls = '--')\n",
    "plt.plot(lamda_list,w40, label ='PctKids2Par')\n",
    "plt.plot(lamda_list,w46, label ='PctIlleg')\n",
    "plt.plot(lamda_list,w67, label ='HousVacant')\n",
    "plt.legend()\n",
    "plt.xscale('log')\n",
    "plt.show()"
   ]
  },
  {
   "cell_type": "markdown",
   "metadata": {},
   "source": [
    "## Description\n",
    "\n",
    "problem 2를 풀기위해 P1.2과정을 뺀 lasso2를 만들었다. lamda_list를 통해 for-loop를 돌리면서 문제에서 필요한 features의 coeffiicient값을 람다가 변할 때마다 각각 w4, w13, w40, w46, w67에 append시켜 그래프를 그려주었다. 람다가 증가할수록 0에 수렴하는 것을 볼 수 있다."
   ]
  },
  {
   "cell_type": "code",
   "execution_count": 21,
   "metadata": {},
   "outputs": [
    {
     "name": "stdout",
     "output_type": "stream",
     "text": [
      "600\n",
      "15 1\n",
      "300\n",
      "54 3\n",
      "150\n",
      "59 5\n",
      "75\n",
      "105 7\n",
      "37\n",
      "127 12\n",
      "18\n",
      "197 18\n",
      "9\n",
      "303 28\n",
      "4\n",
      "532 48\n",
      "2\n",
      "1102 65\n",
      "1\n",
      "1524 77\n"
     ]
    }
   ],
   "source": [
    "#P2.2\n",
    "w = []\n",
    "for i in lamda_list:\n",
    "    print(i)\n",
    "    w.append(lasso2(i, y, x, w0))"
   ]
  },
  {
   "cell_type": "code",
   "execution_count": 20,
   "metadata": {},
   "outputs": [
    {
     "data": {
      "image/png": "[encoded data removed]",
      "text/plain": [
       "<Figure size 432x288 with 1 Axes>"
      ]
     },
     "metadata": {},
     "output_type": "display_data"
    }
   ],
   "source": [
    "tr_err = []\n",
    "for i in range(len(lamda_list)):\n",
    "    err = np.dot((y - np.dot(x,w[i])).T, y - np.dot(x,w[i]))[0][0]\n",
    "    tr_err.append(err)\n",
    "plt.plot(lamda_list, tr_err, label = 'tr_err/lamda', marker = 'o')\n",
    "plt.legend()\n",
    "plt.xscale('log')\n",
    "plt.show()"
   ]
  },
  {
   "cell_type": "markdown",
   "metadata": {},
   "source": [
    "## Description\n",
    "\n",
    "w = [w57, w60, w75, w150, w300, w600] 에 람다의 변화에 따른 모든 return값인 w_hat을 추가해주었다. training error를 P1.2에서 사용한 공식을 그대로 이용해서 sum of squared error로 구했다. 람다가 증가할 수록 training error가 증가하는 것을 볼 수 있다."
   ]
  },
  {
   "cell_type": "code",
   "execution_count": 22,
   "metadata": {},
   "outputs": [
    {
     "name": "stdout",
     "output_type": "stream",
     "text": [
      "(399, 96)\n"
     ]
    }
   ],
   "source": [
    "#P2.3 Plot test error (sum of squared error) over log(λ).\n",
    "df_test = pd.read_csv('crime-test.csv') #put data from crime-test.csv\n",
    "df_test = df_test.values\n",
    "print(df_test.shape)\n",
    "x_test = np.delete(df_test, 0, 1) # make a matrix of input variables(X_test)\n",
    "intercept_test = np.ones((399,1))\n",
    "x_test = np.column_stack([intercept_test, x_test])\n",
    "# print(x_test.shape)\n",
    "# print(x_test.T)\n",
    "\n",
    "y_test = np.array(df_test[0][0])\n",
    "for i in range(1,399):\n",
    "    y_test = np.row_stack((y_test, df_test[i][0])) #put ViolentCrimesPerPop into y_test\n",
    "# print(y_test)"
   ]
  },
  {
   "cell_type": "code",
   "execution_count": 23,
   "metadata": {},
   "outputs": [
    {
     "data": {
      "image/png": "[encoded data removed]",
      "text/plain": [
       "<Figure size 432x288 with 1 Axes>"
      ]
     },
     "metadata": {},
     "output_type": "display_data"
    }
   ],
   "source": [
    "t_err = []\n",
    "for i in range(len(lamda_list)):\n",
    "    err = np.dot((y_test - np.dot(x_test,w[i])).T, y_test - np.dot(x_test,w[i]))[0][0]\n",
    "    t_err.append(err)\n",
    "plt.plot(lamda_list, t_err, label = 't_err/lamda', marker = 'o')\n",
    "plt.legend()\n",
    "plt.xscale('log')\n",
    "plt.show()"
   ]
  },
  {
   "cell_type": "markdown",
   "metadata": {},
   "source": [
    "## Description\n",
    "\n",
    "crime-test.csv에서 데이터를 불러와 P2.2와 같은 방법으로 error를 구했다. 그래프는 위와 같고 람다가 커질수록 test error도 커지는 것을 볼 수 있다."
   ]
  },
  {
   "cell_type": "code",
   "execution_count": 24,
   "metadata": {},
   "outputs": [
    {
     "name": "stdout",
     "output_type": "stream",
     "text": [
      "[1, 3, 5, 7, 12, 18, 28, 48, 65, 77]\n"
     ]
    },
    {
     "data": {
      "image/png": "[encoded data removed]",
      "text/plain": [
       "<Figure size 432x288 with 1 Axes>"
      ]
     },
     "metadata": {},
     "output_type": "display_data"
    }
   ],
   "source": [
    "#P2.4 Plot number of nonzero weights over λ.\n",
    "nonzero = []\n",
    "for i in range(len(lamda_list)):\n",
    "    nonzero.append(np.count_nonzero(w[i]))\n",
    "print(nonzero)\n",
    "plt.plot(lamda_list, nonzero, marker = 'o')\n",
    "plt.show()"
   ]
  },
  {
   "cell_type": "markdown",
   "metadata": {},
   "source": [
    "## Description\n",
    "\n",
    "w = [w57, w60, w75, w150, w300, w600] 에서 nonzero values를 카운트해 nonzero = []에 append해주고 plot했다. 람다가 커질수록 wj가 0이 되는 경우가 많아지는 것을 볼 수 있다."
   ]
  }
 ],
 "metadata": {
  "kernelspec": {
   "display_name": "Python 3",
   "language": "python",
   "name": "python3"
  },
  "language_info": {
   "codemirror_mode": {
    "name": "ipython",
    "version": 3
   },
   "file_extension": ".py",
   "mimetype": "text/x-python",
   "name": "python",
   "nbconvert_exporter": "python",
   "pygments_lexer": "ipython3",
   "version": "3.6.5"
  }
 },
 "nbformat": 4,
 "nbformat_minor": 2
}
